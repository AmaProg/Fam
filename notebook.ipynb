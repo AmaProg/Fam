{
 "cells": [
  {
   "cell_type": "code",
   "execution_count": 2,
   "metadata": {},
   "outputs": [
    {
     "data": {
      "text/plain": [
       "['1 m and 0',\n",
       " '4 m and 1',\n",
       " '9 m and 2',\n",
       " '16 m and 3',\n",
       " '25 m and 4',\n",
       " '36 m and 5',\n",
       " '49 m and 6',\n",
       " '64 m and 7',\n",
       " '81 m and 8']"
      ]
     },
     "execution_count": 2,
     "metadata": {},
     "output_type": "execute_result"
    }
   ],
   "source": [
    "number = [1,2,3,4,5,6,7,8,9]\n",
    "\n",
    "carre = [f\"{x**2} m and {idx}\" for idx, x in enumerate(number)]\n",
    "\n",
    "carre"
   ]
  }
 ],
 "metadata": {
  "kernelspec": {
   "display_name": ".venv",
   "language": "python",
   "name": "python3"
  },
  "language_info": {
   "codemirror_mode": {
    "name": "ipython",
    "version": 3
   },
   "file_extension": ".py",
   "mimetype": "text/x-python",
   "name": "python",
   "nbconvert_exporter": "python",
   "pygments_lexer": "ipython3",
   "version": "3.12.0"
  }
 },
 "nbformat": 4,
 "nbformat_minor": 2
}
