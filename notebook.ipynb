{
 "cells": [
  {
   "cell_type": "code",
   "execution_count": 2,
   "metadata": {},
   "outputs": [
    {
     "data": {
      "text/plain": [
       "['1 m and 0',\n",
       " '4 m and 1',\n",
       " '9 m and 2',\n",
       " '16 m and 3',\n",
       " '25 m and 4',\n",
       " '36 m and 5',\n",
       " '49 m and 6',\n",
       " '64 m and 7',\n",
       " '81 m and 8']"
      ]
     },
     "execution_count": 2,
     "metadata": {},
     "output_type": "execute_result"
    }
   ],
   "source": [
    "number = [1,2,3,4,5,6,7,8,9]\n",
    "\n",
    "carre = [f\"{x**2} m and {idx}\" for idx, x in enumerate(number)]\n",
    "\n",
    "carre"
   ]
  },
  {
   "cell_type": "code",
   "execution_count": 14,
   "metadata": {},
   "outputs": [
    {
     "name": "stdout",
     "output_type": "stream",
     "text": [
      "Item 1    \tItem 2    \tItem 3    \n",
      "Item 4    \tItem 5    \tItem 6    \n",
      "Item 7    \tItem 8    \tItem 9    \n",
      "Item 10   \tItem 11   \tItem 12   \n",
      "Item 13   \tItem 14   \tItem 15   \n",
      "Item 16   \tItem 17   \tItem 18   \n",
      "Item 19   \tItem 20   \tItem 21   \n",
      "Item 22   \tItem 23   \tItem 24   \n",
      "Item 25   \tItem 26   \tItem 27   \n"
     ]
    }
   ],
   "source": [
    "def show_choice(choice: list[str]) -> None:\n",
    "    # Définir le nombre maximum de colonnes et de lignes\n",
    "    max_columns = 10\n",
    "    max_rows = (len(choice) + max_columns -1) // max_columns  # Calculer le nombre de lignes nécessaires\n",
    "\n",
    "    # Diviser la liste en groupes correspondant à chaque colonne\n",
    "    columns = [choice[i::max_rows] for i in range(max_rows)]\n",
    "\n",
    "    # Afficher chaque ligne en parallèle pour toutes les colonnes\n",
    "    for row in zip(*columns):\n",
    "        print(\"\\t\".join(f\"{item:<10}\" for item in row))\n",
    "\n",
    "# Exemple d'utilisation\n",
    "choice = [f\"Item {i}\" for i in range(1, 30)]\n",
    "show_choice(choice)\n"
   ]
  },
  {
   "cell_type": "code",
   "execution_count": 3,
   "metadata": {},
   "outputs": [
    {
     "data": {
      "text/plain": [
       "15"
      ]
     },
     "execution_count": 3,
     "metadata": {},
     "output_type": "execute_result"
    }
   ],
   "source": [
    "test_list = [\"pomme\", \"vert\", \"dino\", \"ArithmeticError\"]\n",
    "\n",
    "nbr = len(max(test_list, key=len))\n",
    "\n",
    "nbr"
   ]
  },
  {
   "cell_type": "code",
   "execution_count": 1,
   "metadata": {},
   "outputs": [
    {
     "name": "stdout",
     "output_type": "stream",
     "text": [
      "Les descriptions sont identiques.\n"
     ]
    }
   ],
   "source": [
    "import re\n",
    "\n",
    "def remove_special_characters(s):\n",
    "    return re.sub(r'\\W+', '', s).lower().strip()\n",
    "\n",
    "# Exemple\n",
    "description1 = remove_special_characters(\"FIDO Mobile ******9888 888-481-3436 ON\")\n",
    "description2 = remove_special_characters(\"FIDO Mobile ******9888 888-481-3436 ON\")\n",
    "\n",
    "if description1 == description2:\n",
    "    print(\"Les descriptions sont identiques.\")\n",
    "else:\n",
    "    print(\"Les descriptions sont différentes.\")\n"
   ]
  },
  {
   "cell_type": "code",
   "execution_count": 5,
   "metadata": {},
   "outputs": [],
   "source": [
    "import re\n",
    "\n",
    "def normalize_string(s: str):\n",
    "    s = s.strip().lower()\n",
    "    s = re.sub(r\"\\W+\", \"\", s)\n",
    "    return s"
   ]
  },
  {
   "cell_type": "code",
   "execution_count": 7,
   "metadata": {},
   "outputs": [
    {
     "data": {
      "text/plain": [
       "True"
      ]
     },
     "execution_count": 7,
     "metadata": {},
     "output_type": "execute_result"
    }
   ],
   "source": [
    "sn = normalize_string(\"FIDO Mobile ******9888 888-481-3436 ON\")\n",
    "sd = normalize_string(\"FIDO Mobile ******9888 888-481-3436 ON\")\n",
    "\n",
    "sn == sd"
   ]
  }
 ],
 "metadata": {
  "kernelspec": {
   "display_name": ".venv",
   "language": "python",
   "name": "python3"
  },
  "language_info": {
   "codemirror_mode": {
    "name": "ipython",
    "version": 3
   },
   "file_extension": ".py",
   "mimetype": "text/x-python",
   "name": "python",
   "nbconvert_exporter": "python",
   "pygments_lexer": "ipython3",
   "version": "3.12.0"
  }
 },
 "nbformat": 4,
 "nbformat_minor": 2
}
