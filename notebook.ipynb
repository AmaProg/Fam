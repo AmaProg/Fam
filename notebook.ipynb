{
 "cells": [
  {
   "cell_type": "code",
   "execution_count": 2,
   "metadata": {},
   "outputs": [
    {
     "data": {
      "text/plain": [
       "['1 m and 0',\n",
       " '4 m and 1',\n",
       " '9 m and 2',\n",
       " '16 m and 3',\n",
       " '25 m and 4',\n",
       " '36 m and 5',\n",
       " '49 m and 6',\n",
       " '64 m and 7',\n",
       " '81 m and 8']"
      ]
     },
     "execution_count": 2,
     "metadata": {},
     "output_type": "execute_result"
    }
   ],
   "source": [
    "number = [1,2,3,4,5,6,7,8,9]\n",
    "\n",
    "carre = [f\"{x**2} m and {idx}\" for idx, x in enumerate(number)]\n",
    "\n",
    "carre"
   ]
  },
  {
   "cell_type": "code",
   "execution_count": 8,
   "metadata": {},
   "outputs": [],
   "source": [
    "from typing import List, Dict, TypeVar, Tuple\n",
    "import copy\n",
    "\n",
    "# Définir un type générique T\n",
    "T = TypeVar('T', bound='BaseTable')\n",
    "\n",
    "class BaseTable:\n",
    "    id: int\n",
    "    name: str\n",
    "\n",
    "def build_choices(items: List[T]) -> Tuple[Dict[int, T], List[str]]:\n",
    "    \"\"\"\n",
    "    Crée un dictionnaire et une liste de choix à partir d'une liste d'éléments.\n",
    "\n",
    "    Args:\n",
    "        items (List[T]): Liste des éléments (e.g., CategoryTable, SubCategoryTable, ClassificationTable).\n",
    "\n",
    "    Returns:\n",
    "        Tuple[Dict[int, T], List[str]]: Un dictionnaire des éléments avec leur ID comme clé,\n",
    "                                        et une liste de choix formatée.\n",
    "    \"\"\"\n",
    "    item_dict: Dict[int, T] = {}\n",
    "    item_choice: List[str] = []\n",
    "\n",
    "    for item in items:\n",
    "        item_dict[item.id] = item\n",
    "        item_choice.append(copy.copy(f\"{item.id}: {item.name}\"))\n",
    "\n",
    "    return item_dict, item_choice\n",
    "   \n",
    " \n"
   ]
  }
 ],
 "metadata": {
  "kernelspec": {
   "display_name": ".venv",
   "language": "python",
   "name": "python3"
  },
  "language_info": {
   "codemirror_mode": {
    "name": "ipython",
    "version": 3
   },
   "file_extension": ".py",
   "mimetype": "text/x-python",
   "name": "python",
   "nbconvert_exporter": "python",
   "pygments_lexer": "ipython3",
   "version": "3.12.0"
  }
 },
 "nbformat": 4,
 "nbformat_minor": 2
}
